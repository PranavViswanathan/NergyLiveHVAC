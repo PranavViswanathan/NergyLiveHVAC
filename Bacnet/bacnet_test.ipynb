{
 "cells": [
  {
   "cell_type": "code",
   "execution_count": 1,
   "id": "47bbe62a",
   "metadata": {},
   "outputs": [],
   "source": [
    "import BAC0"
   ]
  },
  {
   "cell_type": "code",
   "execution_count": 2,
   "id": "452137a0",
   "metadata": {},
   "outputs": [
    {
     "name": "stdout",
     "output_type": "stream",
     "text": [
      "2022-03-19 16:15:13,558 - INFO    | Starting BAC0 version 21.12.03 (Complete)\n",
      "2022-03-19 16:15:13,561 - INFO    | Use BAC0.log_level to adjust verbosity of the app.\n",
      "2022-03-19 16:15:13,562 - INFO    | Ex. BAC0.log_level('silence') or BAC0.log_level('error')\n",
      "2022-03-19 16:15:13,562 - INFO    | Starting TaskManager\n",
      "2022-03-19 16:15:13,597 - INFO    | Using ip : 10.0.220.251\n",
      "2022-03-19 16:15:14,794 - INFO    | Starting app...\n",
      "2022-03-19 16:15:14,794 - INFO    | BAC0 started\n",
      "2022-03-19 16:15:14,795 - INFO    | Registered as Simple BACnet/IP App\n",
      "2022-03-19 16:15:14,799 - INFO    | Update Local COV Task started\n",
      "2022-03-19 16:15:15,946 - INFO    | Server started : http://10.0.220.251:8111\n",
      " * Serving Flask app 'BAC0.web.FlaskServer' (lazy loading)\n",
      " * Environment: production\n",
      "\u001b[31m   WARNING: This is a development server. Do not use it in a production deployment.\u001b[0m\n",
      "\u001b[2m   Use a production WSGI server instead.\u001b[0m\n",
      " * Debug mode: off\n"
     ]
    },
    {
     "name": "stderr",
     "output_type": "stream",
     "text": [
      " * Running on all addresses.\n",
      "   WARNING: This is a development server. Do not use it in a production deployment.\n",
      " * Running on http://10.0.220.251:8111/ (Press CTRL+C to quit)\n"
     ]
    },
    {
     "name": "stdout",
     "output_type": "stream",
     "text": [
      "2022-03-19 16:15:16,862 - INFO    | 10.0.220.250 network number is 2\n",
      "2022-03-19 16:15:16,927 - INFO    | 10.0.220.218 network number is 1\n",
      "2022-03-19 16:15:16,950 - INFO    | 10.0.220.216 network number is 1\n",
      "2022-03-19 16:15:16,954 - INFO    | 10.0.220.217 network number is 1\n",
      "2022-03-19 16:15:19,952 - INFO    | Found those networks : {1, 2}\n",
      "2022-03-19 16:15:19,954 - INFO    | Discovering network 1\n",
      "2022-03-19 16:15:22,959 - INFO    | Discovering network 2\n"
     ]
    },
    {
     "name": "stderr",
     "output_type": "stream",
     "text": [
      "10.0.220.251 - - [19/Mar/2022 16:15:23] \"GET / HTTP/1.1\" 200 -\n",
      "10.0.220.251 - - [19/Mar/2022 16:15:23] \"GET /static/assets/css/bootstrap.min.css HTTP/1.1\" 200 -\n",
      "10.0.220.251 - - [19/Mar/2022 16:15:23] \"GET /static/assets/css/animate.min.css HTTP/1.1\" 200 -\n",
      "10.0.220.251 - - [19/Mar/2022 16:15:23] \"GET /static/assets/css/demo.css HTTP/1.1\" 200 -\n",
      "10.0.220.251 - - [19/Mar/2022 16:15:23] \"GET /static/assets/css/paper-dashboard.css HTTP/1.1\" 200 -\n",
      "10.0.220.251 - - [19/Mar/2022 16:15:23] \"GET /static/assets/css/themify-icons.css HTTP/1.1\" 200 -\n",
      "10.0.220.251 - - [19/Mar/2022 16:15:23] \"GET /static/assets/js/jquery-1.10.2.js HTTP/1.1\" 200 -\n",
      "10.0.220.251 - - [19/Mar/2022 16:15:24] \"GET /static/assets/fonts/themify.woff?-fvbane HTTP/1.1\" 200 -\n",
      "10.0.220.251 - - [19/Mar/2022 16:15:24] \"GET /static/assets/img/favicon.png HTTP/1.1\" 200 -\n",
      "10.0.220.251 - - [19/Mar/2022 16:15:37] \"GET /dash_devices HTTP/1.1\" 200 -\n",
      "10.0.220.251 - - [19/Mar/2022 16:15:37] \"GET /static/assets/css/animate.min.css HTTP/1.1\" 304 -\n",
      "10.0.220.251 - - [19/Mar/2022 16:15:37] \"GET /static/assets/css/bootstrap.min.css HTTP/1.1\" 304 -\n",
      "10.0.220.251 - - [19/Mar/2022 16:15:37] \"GET /static/assets/css/paper-dashboard.css HTTP/1.1\" 304 -\n",
      "10.0.220.251 - - [19/Mar/2022 16:15:37] \"GET /static/assets/css/demo.css HTTP/1.1\" 304 -\n",
      "10.0.220.251 - - [19/Mar/2022 16:15:37] \"GET /static/assets/css/themify-icons.css HTTP/1.1\" 304 -\n",
      "10.0.220.251 - - [19/Mar/2022 16:15:37] \"GET /static/assets/js/jquery-1.10.2.js HTTP/1.1\" 304 -\n"
     ]
    }
   ],
   "source": [
    "bacnet = BAC0.connect()\n"
   ]
  },
  {
   "cell_type": "code",
   "execution_count": 6,
   "id": "493f2518",
   "metadata": {},
   "outputs": [
    {
     "name": "stdout",
     "output_type": "stream",
     "text": [
      "2022-03-19 16:18:51,716 - INFO    | 10.0.220.250 network number is 2\n",
      "2022-03-19 16:18:51,726 - INFO    | 10.0.220.216 network number is 1\n",
      "2022-03-19 16:18:51,735 - INFO    | 10.0.220.218 network number is 1\n",
      "2022-03-19 16:18:51,755 - INFO    | 10.0.220.217 network number is 1\n",
      "2022-03-19 16:18:54,765 - INFO    | Found those networks : {1, 2}\n",
      "2022-03-19 16:18:54,765 - INFO    | Discovering network 1\n",
      "2022-03-19 16:18:57,769 - INFO    | Discovering network 2\n"
     ]
    }
   ],
   "source": [
    "device_list = bacnet.discover()\n"
   ]
  },
  {
   "cell_type": "code",
   "execution_count": 7,
   "id": "170396db",
   "metadata": {},
   "outputs": [
    {
     "data": {
      "text/plain": [
       "[('10.0.220.250', 250),\n",
       " ('10.0.220.6', 8888),\n",
       " ('10.0.220.8', 537145),\n",
       " ('10.0.220.218', 2003),\n",
       " ('10.0.220.217', 2002),\n",
       " ('10.0.220.216', 2001)]"
      ]
     },
     "execution_count": 7,
     "metadata": {},
     "output_type": "execute_result"
    }
   ],
   "source": [
    "device_list"
   ]
  },
  {
   "cell_type": "code",
   "execution_count": 9,
   "id": "e6f67383",
   "metadata": {},
   "outputs": [
    {
     "data": {
      "text/plain": [
       "[]"
      ]
     },
     "execution_count": 9,
     "metadata": {},
     "output_type": "execute_result"
    }
   ],
   "source": [
    "bacnet.registered_devices"
   ]
  },
  {
   "cell_type": "code",
   "execution_count": 11,
   "id": "42c804fb",
   "metadata": {},
   "outputs": [
    {
     "name": "stdout",
     "output_type": "stream",
     "text": [
      "2022-03-19 16:24:48,737 - INFO    | Changing device state to DeviceDisconnected'>\n",
      "2022-03-19 16:24:49,922 - INFO    | Changing device state to RPMDeviceConnected'>\n",
      "2022-03-19 16:24:50,214 - INFO    | Device 2001:[energymeter] found... building points list\n",
      "2022-03-19 16:24:54,035 - ERROR   | Problem creating ('trendLog', 1)\n",
      "2022-03-19 16:24:54,125 - ERROR   | Problem creating ('trendLog', 2)\n",
      "2022-03-19 16:24:54,225 - ERROR   | Problem creating ('trendLog', 3)\n",
      "2022-03-19 16:24:54,326 - ERROR   | Problem creating ('trendLog', 4)\n",
      "2022-03-19 16:24:54,430 - ERROR   | Problem creating ('trendLog', 5)\n",
      "2022-03-19 16:24:54,529 - ERROR   | Problem creating ('trendLog', 6)\n",
      "2022-03-19 16:24:54,625 - ERROR   | Problem creating ('trendLog', 7)\n",
      "2022-03-19 16:24:54,727 - ERROR   | Problem creating ('trendLog', 8)\n",
      "2022-03-19 16:24:54,846 - ERROR   | Problem creating ('trendLog', 9)\n",
      "2022-03-19 16:24:54,942 - ERROR   | Problem creating ('trendLog', 10)\n",
      "2022-03-19 16:24:55,033 - ERROR   | Problem creating ('trendLog', 11)\n",
      "2022-03-19 16:24:55,128 - ERROR   | Problem creating ('trendLog', 12)\n",
      "2022-03-19 16:24:55,225 - ERROR   | Problem creating ('trendLog', 13)\n",
      "2022-03-19 16:24:55,326 - ERROR   | Problem creating ('trendLog', 14)\n",
      "2022-03-19 16:24:55,431 - ERROR   | Problem creating ('trendLog', 15)\n",
      "2022-03-19 16:24:55,529 - ERROR   | Problem creating ('trendLog', 16)\n",
      "2022-03-19 16:24:55,627 - ERROR   | Problem creating ('trendLog', 17)\n",
      "2022-03-19 16:24:55,726 - ERROR   | Problem creating ('trendLog', 18)\n",
      "2022-03-19 16:24:55,847 - ERROR   | Problem creating ('trendLog', 19)\n",
      "2022-03-19 16:24:55,943 - ERROR   | Problem creating ('trendLog', 20)\n",
      "2022-03-19 16:24:56,031 - ERROR   | Problem creating ('trendLog', 21)\n",
      "2022-03-19 16:24:56,125 - ERROR   | Problem creating ('trendLog', 22)\n",
      "2022-03-19 16:24:56,226 - ERROR   | Problem creating ('trendLog', 23)\n",
      "2022-03-19 16:24:56,327 - ERROR   | Problem creating ('trendLog', 24)\n",
      "2022-03-19 16:24:56,427 - ERROR   | Problem creating ('trendLog', 25)\n",
      "2022-03-19 16:24:56,528 - ERROR   | Problem creating ('trendLog', 26)\n",
      "2022-03-19 16:24:56,627 - ERROR   | Problem creating ('trendLog', 27)\n",
      "2022-03-19 16:24:56,727 - ERROR   | Problem creating ('trendLog', 28)\n",
      "2022-03-19 16:24:56,847 - ERROR   | Problem creating ('trendLog', 29)\n",
      "2022-03-19 16:24:56,943 - ERROR   | Problem creating ('trendLog', 30)\n",
      "2022-03-19 16:24:57,032 - ERROR   | Problem creating ('trendLog', 31)\n",
      "2022-03-19 16:24:57,125 - ERROR   | Problem creating ('trendLog', 32)\n",
      "2022-03-19 16:24:57,225 - ERROR   | Problem creating ('trendLog', 33)\n",
      "2022-03-19 16:24:57,325 - ERROR   | Problem creating ('trendLog', 34)\n",
      "2022-03-19 16:24:57,432 - ERROR   | Problem creating ('trendLog', 35)\n",
      "2022-03-19 16:24:57,528 - ERROR   | Problem creating ('trendLog', 36)\n",
      "2022-03-19 16:24:57,627 - ERROR   | Problem creating ('trendLog', 37)\n",
      "2022-03-19 16:24:57,726 - ERROR   | Problem creating ('trendLog', 38)\n",
      "2022-03-19 16:24:57,848 - ERROR   | Problem creating ('trendLog', 39)\n",
      "2022-03-19 16:24:57,944 - ERROR   | Problem creating ('trendLog', 40)\n",
      "2022-03-19 16:24:58,032 - ERROR   | Problem creating ('trendLog', 41)\n",
      "2022-03-19 16:24:59,127 - ERROR   | Problem creating ('trendLog', 42)\n",
      "2022-03-19 16:25:00,225 - ERROR   | Problem creating ('trendLog', 43)\n",
      "2022-03-19 16:25:00,325 - ERROR   | Problem creating ('trendLog', 44)\n",
      "2022-03-19 16:25:00,428 - ERROR   | Problem creating ('trendLog', 45)\n",
      "2022-03-19 16:25:00,531 - ERROR   | Problem creating ('trendLog', 46)\n",
      "2022-03-19 16:25:00,624 - ERROR   | Problem creating ('trendLog', 47)\n",
      "2022-03-19 16:25:00,734 - ERROR   | Problem creating ('trendLog', 48)\n",
      "2022-03-19 16:25:00,847 - ERROR   | Problem creating ('trendLog', 49)\n",
      "2022-03-19 16:25:00,945 - ERROR   | Problem creating ('trendLog', 50)\n",
      "2022-03-19 16:25:01,032 - ERROR   | Problem creating ('trendLog', 51)\n",
      "2022-03-19 16:25:01,125 - ERROR   | Problem creating ('trendLog', 52)\n",
      "2022-03-19 16:25:01,224 - ERROR   | Problem creating ('trendLog', 53)\n",
      "2022-03-19 16:25:02,324 - ERROR   | Problem creating ('trendLog', 54)\n",
      "2022-03-19 16:25:02,427 - ERROR   | Problem creating ('trendLog', 55)\n",
      "2022-03-19 16:25:02,531 - ERROR   | Problem creating ('trendLog', 56)\n",
      "2022-03-19 16:25:02,625 - ERROR   | Problem creating ('trendLog', 57)\n",
      "2022-03-19 16:25:02,725 - ERROR   | Problem creating ('trendLog', 58)\n",
      "2022-03-19 16:25:02,848 - ERROR   | Problem creating ('trendLog', 59)\n",
      "2022-03-19 16:25:02,944 - ERROR   | Problem creating ('trendLog', 60)\n",
      "2022-03-19 16:25:03,032 - ERROR   | Problem creating ('trendLog', 61)\n",
      "2022-03-19 16:25:03,126 - ERROR   | Problem creating ('trendLog', 62)\n",
      "2022-03-19 16:25:03,225 - ERROR   | Problem creating ('trendLog', 63)\n",
      "2022-03-19 16:25:03,325 - ERROR   | Problem creating ('trendLog', 64)\n",
      "2022-03-19 16:25:03,437 - ERROR   | Problem creating ('trendLog', 65)\n",
      "2022-03-19 16:25:04,531 - ERROR   | Problem creating ('trendLog', 66)\n",
      "2022-03-19 16:25:04,727 - ERROR   | Problem creating ('trendLog', 67)\n",
      "2022-03-19 16:25:04,943 - ERROR   | Problem creating ('trendLog', 68)\n",
      "2022-03-19 16:25:05,126 - ERROR   | Problem creating ('trendLog', 69)\n",
      "2022-03-19 16:25:05,327 - ERROR   | Problem creating ('trendLog', 70)\n",
      "2022-03-19 16:25:05,528 - ERROR   | Problem creating ('trendLog', 71)\n",
      "2022-03-19 16:25:05,626 - ERROR   | Problem creating ('trendLog', 72)\n",
      "2022-03-19 16:25:05,726 - ERROR   | Problem creating ('trendLog', 73)\n",
      "2022-03-19 16:25:05,846 - ERROR   | Problem creating ('trendLog', 74)\n",
      "2022-03-19 16:25:05,942 - ERROR   | Problem creating ('trendLog', 75)\n",
      "2022-03-19 16:25:06,032 - ERROR   | Problem creating ('trendLog', 76)\n",
      "2022-03-19 16:25:06,125 - ERROR   | Problem creating ('trendLog', 77)\n",
      "2022-03-19 16:25:06,226 - ERROR   | Problem creating ('trendLog', 78)\n",
      "2022-03-19 16:25:06,325 - ERROR   | Problem creating ('trendLog', 79)\n",
      "2022-03-19 16:25:06,428 - ERROR   | Problem creating ('trendLog', 80)\n",
      "2022-03-19 16:25:06,428 - INFO    | Ready!\n",
      "2022-03-19 16:25:06,429 - INFO    | Device defined for normal polling with a delay of 10sec\n",
      "2022-03-19 16:25:06,429 - INFO    | Polling started, values read every 10 seconds\n"
     ]
    }
   ],
   "source": [
    "name = BAC0.device('10.0.220.216', 2001, bacnet)"
   ]
  },
  {
   "cell_type": "code",
   "execution_count": 12,
   "id": "4709fec1",
   "metadata": {},
   "outputs": [
    {
     "data": {
      "text/plain": [
       "energymeter / Connected"
      ]
     },
     "execution_count": 12,
     "metadata": {},
     "output_type": "execute_result"
    }
   ],
   "source": [
    "name\n"
   ]
  },
  {
   "cell_type": "code",
   "execution_count": 14,
   "id": "952689e0",
   "metadata": {},
   "outputs": [
    {
     "ename": "AttributeError",
     "evalue": "'RPMDeviceConnected' object has no attribute 'name'",
     "output_type": "error",
     "traceback": [
      "\u001b[1;31m---------------------------------------------------------------------------\u001b[0m",
      "\u001b[1;31mAttributeError\u001b[0m                            Traceback (most recent call last)",
      "Input \u001b[1;32mIn [14]\u001b[0m, in \u001b[0;36m<module>\u001b[1;34m\u001b[0m\n\u001b[1;32m----> 1\u001b[0m \u001b[43mname\u001b[49m\u001b[38;5;241;43m.\u001b[39;49m\u001b[43mname\u001b[49m\n",
      "\u001b[1;31mAttributeError\u001b[0m: 'RPMDeviceConnected' object has no attribute 'name'"
     ]
    }
   ],
   "source": [
    "name.name\n"
   ]
  },
  {
   "cell_type": "code",
   "execution_count": 15,
   "id": "d4d53973",
   "metadata": {},
   "outputs": [
    {
     "data": {
      "text/plain": [
       "[('10.0.220.250', 250),\n",
       " ('10.0.220.6', 8888),\n",
       " ('10.0.220.8', 537145),\n",
       " ('10.0.220.218', 2003),\n",
       " ('10.0.220.217', 2002),\n",
       " ('10.0.220.216', 2001)]"
      ]
     },
     "execution_count": 15,
     "metadata": {},
     "output_type": "execute_result"
    }
   ],
   "source": [
    "device_list"
   ]
  },
  {
   "cell_type": "code",
   "execution_count": 23,
   "id": "85ca2ce5",
   "metadata": {},
   "outputs": [
    {
     "data": {
      "text/plain": [
       "energymeter / Connected"
      ]
     },
     "execution_count": 23,
     "metadata": {},
     "output_type": "execute_result"
    }
   ],
   "source": [
    "name\n"
   ]
  },
  {
   "cell_type": "code",
   "execution_count": 39,
   "id": "80a5e233",
   "metadata": {},
   "outputs": [
    {
     "data": {
      "text/plain": [
       "203"
      ]
     },
     "execution_count": 39,
     "metadata": {},
     "output_type": "execute_result"
    }
   ],
   "source": [
    "len(name.bacnet_properties['objectList'])"
   ]
  },
  {
   "cell_type": "code",
   "execution_count": 36,
   "id": "e34b29c2",
   "metadata": {},
   "outputs": [],
   "source": [
    "prop = (name.bacnet_properties['objectList'][0][0], name.bacnet_properties['objectList'][0][1], 'objectName')"
   ]
  },
  {
   "cell_type": "code",
   "execution_count": 37,
   "id": "0a0682ad",
   "metadata": {},
   "outputs": [
    {
     "data": {
      "text/plain": [
       "'S1-HOT_WATER_MFM_TOTAL_CURRENT'"
      ]
     },
     "execution_count": 37,
     "metadata": {},
     "output_type": "execute_result"
    }
   ],
   "source": [
    "name.read_property(prop)"
   ]
  },
  {
   "cell_type": "code",
   "execution_count": 38,
   "id": "8a80fe1c",
   "metadata": {},
   "outputs": [
    {
     "name": "stdout",
     "output_type": "stream",
     "text": [
      "S1-HOT_WATER_MFM_TOTAL_CURRENT\n",
      "S2-HOT_WATER_MFM_R_PHASE_CURRENT\n",
      "S3-HOT_WATER_MFM_Y_PHASE_CURRENT\n",
      "S4-HOT_WATER_MFM_B_PHASE_CURRENT\n",
      "S5-HOT_WATER_MFM_FREQUENCY\n",
      "S6-HOT_WATER_MFM_KWH\n",
      "S7-HOT_WATER_MFM_AVG_PF\n",
      "S8-HOT_WATER_MFM_R_PHASE_PF\n",
      "S9-HOT_WATER_MFM_Y_PHASE_PF\n",
      "S10-HOT_WATER_MFM_B_PHASE_PF\n",
      "S11-HOT_WATER_WATTS_TOTAL\n",
      "S12-HOT_WATER_WATTS_R_PHASE\n",
      "S13-HOT_WATER_WATTS_Y_PHASE\n",
      "S14-HOT_WATER_WATTS_B_PHASE\n",
      "S15-HOT_WATER_VA_TOTAL\n",
      "S16-HOT_WATER_MFM_VA_R_PHASE\n",
      "S17-HOT_WATER_MFM_VA_Y_PHASE\n",
      "S18-HOT_WATER_MFM_VA_B_PHASE\n",
      "S19-HOT_WATER_MFM_VLL_AVG\n",
      "S20-HOT_WATER_MFM_VRY_PHASE\n",
      "S21-HOT_WATER_MFM_VYB_PHASE\n",
      "S22-HOT_WATER_MFM_VBR_PHASE\n",
      "S23-HOT_WATER_MFM_VLN_AVG\n",
      "S24-HOT_WATER_MFM_VR_PHASE\n",
      "S25-HOT_WATER_MFM_VY_PHASE\n",
      "S26-HOT_WATER_MFM_VB_PHASE\n",
      "S28-Sensor 28\n",
      "S29-Sensor 29\n",
      "S30-Sensor 30\n",
      "S31-Sensor 31\n",
      "S32-Sensor 32\n",
      "S33-Sensor 33\n",
      "S34-Sensor 34\n",
      "S35-Sensor 35\n",
      "S36-Sensor 36\n",
      "S37-Sensor 37\n",
      "S38-Sensor 38\n",
      "S39-Sensor 39\n",
      "S40-Sensor 40\n",
      "S41-Sensor 41\n",
      "S42-Sensor 42\n",
      "S43-Sensor 43\n",
      "S44-Sensor 44\n",
      "S45-Sensor 45\n",
      "S46-Sensor 46\n",
      "S47-Sensor 47\n",
      "S48-Sensor 48\n",
      "S49-Sensor 49\n",
      "S50-Sensor 50\n",
      "S51-Sensor 51\n",
      "S52-Sensor 52\n",
      "S53-Sensor 53\n",
      "S54-Sensor 54\n",
      "S55-Sensor 55\n",
      "S56-Sensor 56\n",
      "S57-Sensor 57\n",
      "S58-Sensor 58\n",
      "S59-Sensor 59\n",
      "S60-Sensor 60\n",
      "S61-Sensor 61\n",
      "S62-Sensor 62\n",
      "S63-Sensor 63\n",
      "S64-Sensor 64\n",
      "S65-Sensor 65\n",
      "S66-Sensor 66\n",
      "S67-Sensor 67\n",
      "S68-Sensor 68\n",
      "S69-Sensor 69\n",
      "S70-Sensor 70\n",
      "S71-Sensor 71\n",
      "S72-Sensor 72\n",
      "S73-Sensor 73\n",
      "S74-Sensor 74\n",
      "S75-Sensor 75\n",
      "S76-Sensor 76\n",
      "S77-Sensor 77\n",
      "S78-Sensor 78\n",
      "S79-Sensor 79\n",
      "S80-Sensor 80\n",
      "S85-   T11\n",
      "S86-   T12\n",
      "S87-   T13\n",
      "S88-   T14\n",
      "S89-   T15\n",
      "K1-Knob 1\n",
      "K2-Knob 1\n",
      "K3-Knob 1\n",
      "K4-Knob 1\n",
      "K5-Knob 1\n",
      "K6-Knob 1\n",
      "K7-Knob 1\n",
      "K8-Knob 1\n",
      "K9-Knob 1\n",
      "K10-Knob 1\n",
      "K11-Knob 1\n",
      "K12-Knob 1\n",
      "K13-Knob 1\n",
      "K14-Knob 1\n",
      "K15-Knob 1\n",
      "K16-Knob 1\n",
      "I1-SCP-02-RUN\n",
      "I2-SCP-02-TRIP\n",
      "I3-MV-01-F.B\n",
      "I4-MV-02-F.B\n",
      "I5-MV-03-F.B\n",
      "I6-HP-01-RUN\n",
      "I7-HP-02-RUN\n",
      "I8-HP-03-RUN\n",
      "I9-HP-04-RUN\n",
      "I10-HCP-01-A M\n",
      "I11-HCP-01-RUN\n",
      "I12-HCP-01-TRIP\n",
      "I13-HCP-02-A M\n",
      "I14-HCP-02-RUN\n",
      "I15-HCP-02-TRIP\n",
      "I16-HCP-03-A M\n",
      "I17-HCP-03-RUN\n",
      "I18-HCP-03-TRIP\n",
      "I19-HCP-04-A M\n",
      "I20-HCP-04-RUN\n",
      "I21-HCP-04-TRIP\n",
      "energymeter\n",
      "2022-03-19 16:46:20,991 - WARNING | Unknown object 10.0.220.216 notificationClass 1 objectName\n"
     ]
    },
    {
     "ename": "UnknownObjectError",
     "evalue": "Unknown object 10.0.220.216 notificationClass 1 objectName",
     "output_type": "error",
     "traceback": [
      "\u001b[1;31m---------------------------------------------------------------------------\u001b[0m",
      "\u001b[1;31mUnknownObjectError\u001b[0m                        Traceback (most recent call last)",
      "Input \u001b[1;32mIn [38]\u001b[0m, in \u001b[0;36m<module>\u001b[1;34m\u001b[0m\n\u001b[0;32m      1\u001b[0m \u001b[38;5;28;01mfor\u001b[39;00m \u001b[38;5;28mproperty\u001b[39m \u001b[38;5;129;01min\u001b[39;00m name\u001b[38;5;241m.\u001b[39mbacnet_properties[\u001b[38;5;124m'\u001b[39m\u001b[38;5;124mobjectList\u001b[39m\u001b[38;5;124m'\u001b[39m]:\n\u001b[0;32m      2\u001b[0m     prop \u001b[38;5;241m=\u001b[39m (\u001b[38;5;28mproperty\u001b[39m[\u001b[38;5;241m0\u001b[39m], \u001b[38;5;28mproperty\u001b[39m[\u001b[38;5;241m1\u001b[39m], \u001b[38;5;124m'\u001b[39m\u001b[38;5;124mobjectName\u001b[39m\u001b[38;5;124m'\u001b[39m)\n\u001b[1;32m----> 3\u001b[0m     \u001b[38;5;28mprint\u001b[39m(\u001b[43mname\u001b[49m\u001b[38;5;241;43m.\u001b[39;49m\u001b[43mread_property\u001b[49m\u001b[43m(\u001b[49m\u001b[43mprop\u001b[49m\u001b[43m)\u001b[49m)\n",
      "File \u001b[1;32m~\\iot_gateway\\env\\lib\\site-packages\\BAC0\\core\\devices\\Device.py:734\u001b[0m, in \u001b[0;36mDeviceConnected.read_property\u001b[1;34m(self, prop)\u001b[0m\n\u001b[0;32m    730\u001b[0m \u001b[38;5;28;01mtry\u001b[39;00m:\n\u001b[0;32m    731\u001b[0m     request \u001b[38;5;241m=\u001b[39m \u001b[38;5;124m\"\u001b[39m\u001b[38;5;132;01m{}\u001b[39;00m\u001b[38;5;124m \u001b[39m\u001b[38;5;132;01m{}\u001b[39;00m\u001b[38;5;124m \u001b[39m\u001b[38;5;132;01m{}\u001b[39;00m\u001b[38;5;124m \u001b[39m\u001b[38;5;132;01m{}\u001b[39;00m\u001b[38;5;124m\"\u001b[39m\u001b[38;5;241m.\u001b[39mformat(\n\u001b[0;32m    732\u001b[0m         \u001b[38;5;28mself\u001b[39m\u001b[38;5;241m.\u001b[39mproperties\u001b[38;5;241m.\u001b[39maddress, _obj, _instance, _prop\n\u001b[0;32m    733\u001b[0m     )\n\u001b[1;32m--> 734\u001b[0m     val \u001b[38;5;241m=\u001b[39m \u001b[38;5;28;43mself\u001b[39;49m\u001b[38;5;241;43m.\u001b[39;49m\u001b[43mproperties\u001b[49m\u001b[38;5;241;43m.\u001b[39;49m\u001b[43mnetwork\u001b[49m\u001b[38;5;241;43m.\u001b[39;49m\u001b[43mread\u001b[49m\u001b[43m(\u001b[49m\n\u001b[0;32m    735\u001b[0m \u001b[43m        \u001b[49m\u001b[43mrequest\u001b[49m\u001b[43m,\u001b[49m\u001b[43m \u001b[49m\u001b[43mvendor_id\u001b[49m\u001b[38;5;241;43m=\u001b[39;49m\u001b[38;5;28;43mself\u001b[39;49m\u001b[38;5;241;43m.\u001b[39;49m\u001b[43mproperties\u001b[49m\u001b[38;5;241;43m.\u001b[39;49m\u001b[43mvendor_id\u001b[49m\n\u001b[0;32m    736\u001b[0m \u001b[43m    \u001b[49m\u001b[43m)\u001b[49m\n\u001b[0;32m    737\u001b[0m \u001b[38;5;28;01mexcept\u001b[39;00m \u001b[38;5;167;01mKeyError\u001b[39;00m \u001b[38;5;28;01mas\u001b[39;00m error:\n\u001b[0;32m    738\u001b[0m     \u001b[38;5;28;01mraise\u001b[39;00m \u001b[38;5;167;01mException\u001b[39;00m(\u001b[38;5;124m\"\u001b[39m\u001b[38;5;124mUnknown property : \u001b[39m\u001b[38;5;132;01m{}\u001b[39;00m\u001b[38;5;124m\"\u001b[39m\u001b[38;5;241m.\u001b[39mformat(error))\n",
      "File \u001b[1;32m~\\iot_gateway\\env\\lib\\site-packages\\BAC0\\core\\io\\Read.py:209\u001b[0m, in \u001b[0;36mReadProperty.read\u001b[1;34m(self, args, arr_index, vendor_id, bacoid, timeout, show_property_name)\u001b[0m\n\u001b[0;32m    207\u001b[0m \u001b[38;5;28;01melif\u001b[39;00m reason \u001b[38;5;241m==\u001b[39m \u001b[38;5;124m\"\u001b[39m\u001b[38;5;124munknownObject\u001b[39m\u001b[38;5;124m\"\u001b[39m:\n\u001b[0;32m    208\u001b[0m     \u001b[38;5;28mself\u001b[39m\u001b[38;5;241m.\u001b[39m_log\u001b[38;5;241m.\u001b[39mwarning(\u001b[38;5;124m\"\u001b[39m\u001b[38;5;124mUnknown object \u001b[39m\u001b[38;5;132;01m{}\u001b[39;00m\u001b[38;5;124m\"\u001b[39m\u001b[38;5;241m.\u001b[39mformat(args))\n\u001b[1;32m--> 209\u001b[0m     \u001b[38;5;28;01mraise\u001b[39;00m UnknownObjectError(\u001b[38;5;124m\"\u001b[39m\u001b[38;5;124mUnknown object \u001b[39m\u001b[38;5;132;01m{}\u001b[39;00m\u001b[38;5;124m\"\u001b[39m\u001b[38;5;241m.\u001b[39mformat(args))\n\u001b[0;32m    210\u001b[0m \u001b[38;5;28;01melif\u001b[39;00m reason \u001b[38;5;241m==\u001b[39m \u001b[38;5;124m\"\u001b[39m\u001b[38;5;124mbufferOverflow\u001b[39m\u001b[38;5;124m\"\u001b[39m:\n\u001b[0;32m    211\u001b[0m     \u001b[38;5;28mself\u001b[39m\u001b[38;5;241m.\u001b[39m_log\u001b[38;5;241m.\u001b[39mwarning(\n\u001b[0;32m    212\u001b[0m         \u001b[38;5;124m\"\u001b[39m\u001b[38;5;124mBuffer capacity exceeded in device \u001b[39m\u001b[38;5;132;01m{}\u001b[39;00m\u001b[38;5;124m\"\u001b[39m\u001b[38;5;241m.\u001b[39mformat(args)\n\u001b[0;32m    213\u001b[0m     )\n",
      "\u001b[1;31mUnknownObjectError\u001b[0m: Unknown object 10.0.220.216 notificationClass 1 objectName"
     ]
    }
   ],
   "source": [
    "for property in name.bacnet_properties['objectList']:\n",
    "    prop = (property[0], property[1], 'objectName')\n",
    "    print(name.read_property(prop))"
   ]
  },
  {
   "cell_type": "code",
   "execution_count": null,
   "id": "d1d39b3e",
   "metadata": {},
   "outputs": [],
   "source": []
  }
 ],
 "metadata": {
  "kernelspec": {
   "display_name": "env",
   "language": "python",
   "name": "env"
  },
  "language_info": {
   "codemirror_mode": {
    "name": "ipython",
    "version": 3
   },
   "file_extension": ".py",
   "mimetype": "text/x-python",
   "name": "python",
   "nbconvert_exporter": "python",
   "pygments_lexer": "ipython3",
   "version": "3.8.10"
  }
 },
 "nbformat": 4,
 "nbformat_minor": 5
}
